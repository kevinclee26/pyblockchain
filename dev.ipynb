{
 "cells": [
  {
   "cell_type": "code",
   "execution_count": 28,
   "id": "fde81dd7-16ac-4b9b-a795-ccefe2ade745",
   "metadata": {},
   "outputs": [],
   "source": [
    "from datetime import datetime\n",
    "from dataclasses import dataclass\n",
    "import hashlib"
   ]
  },
  {
   "cell_type": "code",
   "execution_count": 21,
   "id": "ec6f4947-1adb-4ff4-8600-cb83f6ca4b97",
   "metadata": {},
   "outputs": [],
   "source": [
    "@dataclass\n",
    "class Record(): \n",
    "    buyer_id: str\n",
    "    seller_id: str\n",
    "    shares: float"
   ]
  },
  {
   "cell_type": "code",
   "execution_count": 75,
   "id": "bc6ced3e-1d39-416c-8758-3a2a7b99754b",
   "metadata": {},
   "outputs": [],
   "source": [
    "@dataclass\n",
    "class Block(): \n",
    "    record: Record\n",
    "    trade_time: str=datetime.utcnow().strftime('%H:%M:%S')\n",
    "    prev_hash: str='genisus'\n",
    "    \n",
    "    # def __init__(self): \n",
    "    #     self.record=''\n",
    "    #     self.trade_time=datetime.utcnow().strftime('%H:%M:%S')\n",
    "    \n",
    "    def hash_block(self): \n",
    "        hasher=hashlib.sha256()\n",
    "        hasher.update(str(self.record).encode())\n",
    "        hasher.update(self.trade_time.encode())\n",
    "        hasher.update(self.prev_hash.encode())\n",
    "        return hasher.hexdigest()"
   ]
  },
  {
   "cell_type": "code",
   "execution_count": 76,
   "id": "ce64d5a8-15a8-48f3-888f-97278a752eeb",
   "metadata": {},
   "outputs": [],
   "source": [
    "class PyChain():\n",
    "    def __init__(self): \n",
    "        self.chain=[Block(Record('', '', 0))]\n",
    "        \n",
    "    def add_block(self, block): \n",
    "        self.chain.append(block)"
   ]
  },
  {
   "cell_type": "code",
   "execution_count": 94,
   "id": "931a98de-fca5-4356-aa2b-36f001dd86ae",
   "metadata": {},
   "outputs": [],
   "source": [
    "chain=PyChain()"
   ]
  },
  {
   "cell_type": "code",
   "execution_count": 95,
   "id": "1b5a7a0c-8d5c-43ce-a1d1-f0c2cc236e58",
   "metadata": {},
   "outputs": [
    {
     "data": {
      "text/plain": [
       "[Block(record=Record(buyer_id='', seller_id='', shares=0), trade_time='03:25:36', prev_hash='genisus')]"
      ]
     },
     "execution_count": 95,
     "metadata": {},
     "output_type": "execute_result"
    }
   ],
   "source": [
    "chain.chain"
   ]
  },
  {
   "cell_type": "code",
   "execution_count": 96,
   "id": "06fcfc9f-2907-4c81-8c38-cc207a9ab247",
   "metadata": {},
   "outputs": [
    {
     "data": {
      "text/plain": [
       "'kevin'"
      ]
     },
     "metadata": {},
     "output_type": "display_data"
    },
    {
     "data": {
      "text/plain": [
       "'harry'"
      ]
     },
     "metadata": {},
     "output_type": "display_data"
    },
    {
     "data": {
      "text/plain": [
       "1"
      ]
     },
     "metadata": {},
     "output_type": "display_data"
    }
   ],
   "source": [
    "new_record=Record(buyer_id='kevin', seller_id='harry', shares=1)\n",
    "display(new_record.buyer_id)\n",
    "display(new_record.seller_id)\n",
    "display(new_record.shares)"
   ]
  },
  {
   "cell_type": "code",
   "execution_count": 97,
   "id": "d7bfede5-31df-44a8-bd79-cfa9b199d2e3",
   "metadata": {},
   "outputs": [
    {
     "data": {
      "text/plain": [
       "Record(buyer_id='kevin', seller_id='harry', shares=1)"
      ]
     },
     "metadata": {},
     "output_type": "display_data"
    },
    {
     "data": {
      "text/plain": [
       "'03:25:36'"
      ]
     },
     "metadata": {},
     "output_type": "display_data"
    },
    {
     "data": {
      "text/plain": [
       "'e9473623de99990fde08d17a479457865b42359e50bf7716e5d48fc0ce4eacec'"
      ]
     },
     "metadata": {},
     "output_type": "display_data"
    }
   ],
   "source": [
    "# get last block of existing chain\n",
    "last_block=chain.chain[-1]\n",
    "\n",
    "prev_hash=last_block.hash_block()\n",
    "\n",
    "new_block=Block(record=new_record, prev_hash=prev_hash)\n",
    "display(new_block.record)\n",
    "display(new_block.trade_time)\n",
    "display(new_block.prev_hash)"
   ]
  },
  {
   "cell_type": "code",
   "execution_count": 98,
   "id": "a85e269d-471e-45e4-9819-6264390d7249",
   "metadata": {},
   "outputs": [],
   "source": [
    "chain.add_block(new_block)"
   ]
  },
  {
   "cell_type": "code",
   "execution_count": 99,
   "id": "1b6cbafd-96e3-494c-931f-7970a62944fc",
   "metadata": {},
   "outputs": [
    {
     "data": {
      "text/plain": [
       "[Block(record=Record(buyer_id='', seller_id='', shares=0), trade_time='03:25:36', prev_hash='genisus'),\n",
       " Block(record=Record(buyer_id='kevin', seller_id='harry', shares=1), trade_time='03:25:36', prev_hash='e9473623de99990fde08d17a479457865b42359e50bf7716e5d48fc0ce4eacec')]"
      ]
     },
     "execution_count": 99,
     "metadata": {},
     "output_type": "execute_result"
    }
   ],
   "source": [
    "chain.chain"
   ]
  },
  {
   "cell_type": "code",
   "execution_count": 100,
   "id": "81e29390-1edc-40b2-a056-1c173c7d30eb",
   "metadata": {},
   "outputs": [
    {
     "data": {
      "text/plain": [
       "'harry'"
      ]
     },
     "metadata": {},
     "output_type": "display_data"
    },
    {
     "data": {
      "text/plain": [
       "'kevin'"
      ]
     },
     "metadata": {},
     "output_type": "display_data"
    },
    {
     "data": {
      "text/plain": [
       "1"
      ]
     },
     "metadata": {},
     "output_type": "display_data"
    }
   ],
   "source": [
    "newer_record=Record(buyer_id='harry', seller_id='kevin', shares=1)\n",
    "display(newer_record.buyer_id)\n",
    "display(newer_record.seller_id)\n",
    "display(newer_record.shares)"
   ]
  },
  {
   "cell_type": "code",
   "execution_count": 101,
   "id": "9d533c95-5ca2-42a5-93c6-8ee85b57f4fb",
   "metadata": {},
   "outputs": [
    {
     "data": {
      "text/plain": [
       "Record(buyer_id='kevin', seller_id='harry', shares=1)"
      ]
     },
     "metadata": {},
     "output_type": "display_data"
    },
    {
     "data": {
      "text/plain": [
       "'03:25:36'"
      ]
     },
     "metadata": {},
     "output_type": "display_data"
    },
    {
     "data": {
      "text/plain": [
       "'a0c03a4f44a46ea9c67cd46084a46cd896fdd21d0161f22d62994f2fc2fb3a65'"
      ]
     },
     "metadata": {},
     "output_type": "display_data"
    }
   ],
   "source": [
    "# get last block of existing chain\n",
    "last_block=chain.chain[-1]\n",
    "\n",
    "prev_hash=last_block.hash_block()\n",
    "\n",
    "newer_block=Block(record=new_record, prev_hash=prev_hash)\n",
    "display(newer_block.record)\n",
    "display(newer_block.trade_time)\n",
    "display(newer_block.prev_hash)"
   ]
  },
  {
   "cell_type": "code",
   "execution_count": 102,
   "id": "64892581-0061-4a24-b9e2-c3c95399c73a",
   "metadata": {},
   "outputs": [],
   "source": [
    "chain.add_block(newer_block)"
   ]
  },
  {
   "cell_type": "code",
   "execution_count": 103,
   "id": "6ae6a766-c348-4702-83e5-9a08b187cf5e",
   "metadata": {},
   "outputs": [
    {
     "data": {
      "text/plain": [
       "[Block(record=Record(buyer_id='', seller_id='', shares=0), trade_time='03:25:36', prev_hash='genisus'),\n",
       " Block(record=Record(buyer_id='kevin', seller_id='harry', shares=1), trade_time='03:25:36', prev_hash='e9473623de99990fde08d17a479457865b42359e50bf7716e5d48fc0ce4eacec'),\n",
       " Block(record=Record(buyer_id='kevin', seller_id='harry', shares=1), trade_time='03:25:36', prev_hash='a0c03a4f44a46ea9c67cd46084a46cd896fdd21d0161f22d62994f2fc2fb3a65')]"
      ]
     },
     "execution_count": 103,
     "metadata": {},
     "output_type": "execute_result"
    }
   ],
   "source": [
    "chain.chain"
   ]
  },
  {
   "cell_type": "code",
   "execution_count": 105,
   "id": "30c00ee8-90c9-40b3-9e71-8e3fad959e47",
   "metadata": {},
   "outputs": [
    {
     "name": "stdout",
     "output_type": "stream",
     "text": [
      "e9473623de99990fde08d17a479457865b42359e50bf7716e5d48fc0ce4eacec\n",
      "a0c03a4f44a46ea9c67cd46084a46cd896fdd21d0161f22d62994f2fc2fb3a65\n",
      "72d0c6668ff95dda2d757e03818ca5d1dc5b6cddca2aad8feba1af85966bcd6b\n"
     ]
    }
   ],
   "source": [
    "for i in range(len(chain.chain)): \n",
    "    check_block=chain.chain[i]\n",
    "    test_hasher=hashlib.sha256()\n",
    "    test_hasher.update(str(check_block.record).encode())\n",
    "    test_hasher.update(check_block.trade_time.encode())\n",
    "    test_hasher.update(check_block.prev_hash.encode())\n",
    "    print(test_hasher.hexdigest())"
   ]
  },
  {
   "cell_type": "code",
   "execution_count": null,
   "id": "23f5374d-ba98-411c-9d33-a81317be906f",
   "metadata": {},
   "outputs": [],
   "source": []
  }
 ],
 "metadata": {
  "kernelspec": {
   "display_name": "Python 3 (ipykernel)",
   "language": "python",
   "name": "python3"
  },
  "language_info": {
   "codemirror_mode": {
    "name": "ipython",
    "version": 3
   },
   "file_extension": ".py",
   "mimetype": "text/x-python",
   "name": "python",
   "nbconvert_exporter": "python",
   "pygments_lexer": "ipython3",
   "version": "3.7.11"
  }
 },
 "nbformat": 4,
 "nbformat_minor": 5
}
